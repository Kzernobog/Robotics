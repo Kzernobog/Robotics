{
 "cells": [
  {
   "cell_type": "code",
   "execution_count": 1,
   "metadata": {},
   "outputs": [
    {
     "name": "stdout",
     "output_type": "stream",
     "text": [
      "/Users/aditya/Documents/Code/aditya/Zen/atgm/env/bin/python3.6\n"
     ]
    }
   ],
   "source": [
    "import sys\n",
    "print(sys.executable)"
   ]
  },
  {
   "cell_type": "code",
   "execution_count": 1,
   "metadata": {},
   "outputs": [],
   "source": [
    "import serial as ser"
   ]
  },
  {
   "cell_type": "code",
   "execution_count": 42,
   "metadata": {},
   "outputs": [
    {
     "name": "stdout",
     "output_type": "stream",
     "text": [
      "opened....\n",
      "reached here.....\n",
      "b'$OK;'\n"
     ]
    }
   ],
   "source": [
    "import serial as comm \n",
    "import pdb \n",
    "path = '/dev/tty.usbserial-A5XK3RJT' \n",
    "with comm.Serial(path, baudrate=38400)as ser: \n",
    "    if ser.is_open: \n",
    "        print(\"opened....\") \n",
    "        #command = b'$SP;' #- worked \n",
    "        #command = 0x2453503B - didnt work \n",
    "        command = b'\\x24\\x53\\x50\\x3B' #- worked \n",
    "        #command = [0x24, 0x53, 0x50, 0x3B] #- worked\n",
    "        #command[0].type()\n",
    "        ser.write(command) \n",
    "        recieve = ser.read(4) \n",
    "        print(\"reached here.....\") \n",
    "        print(recieve) "
   ]
  },
  {
   "cell_type": "code",
   "execution_count": 4,
   "metadata": {},
   "outputs": [
    {
     "name": "stdout",
     "output_type": "stream",
     "text": [
      "0x00\n",
      "0x00\n",
      "0x00\n",
      "0x1f\n",
      "0x40\n"
     ]
    },
    {
     "data": {
      "text/plain": [
       "[0, 0, 0, 31, 64]"
      ]
     },
     "execution_count": 4,
     "metadata": {},
     "output_type": "execute_result"
    }
   ],
   "source": [
    "#a = int('0x24', 16)\n",
    "#print(chr(a))\n",
    "\n",
    "# converts the given integer into a corresponding unicode string of \n",
    "def value_to_bytes(value, num_of_bytes):\n",
    "    '''\n",
    "    @params:\n",
    "    value - value to be converted\n",
    "    num_of_bytes - number of bytes that the value has to be represented in\n",
    "    @return - a list containing byte values(max - 255, min - 0) with length equal to num_of_bytes'''\n",
    "    assert type(value) != 'int', 'Please make sure that the value passed in is of type <int>'\n",
    "    result = hex(value)[2:]\n",
    "    assert len(result) <= 2*num_of_bytes, 'Please make sure that the num_of_bytes are enough to support the number represented '  \n",
    "    result = result.zfill(2*num_of_bytes)\n",
    "    main_result_list = []\n",
    "    res_len = len(result)\n",
    "    for i in range(0, res_len, 2):\n",
    "        construct = '0x'+result[i:i+2]\n",
    "        print(construct)\n",
    "        temp = int('0x'+result[i:i+2], 16)\n",
    "        \n",
    "        main_result_list.append(temp)\n",
    "        \n",
    "    \n",
    "    return main_result_list\n",
    "    \n",
    "\n",
    "a = value_to_bytes(0x001f40, 5)\n",
    "a"
   ]
  },
  {
   "cell_type": "code",
   "execution_count": 80,
   "metadata": {},
   "outputs": [
    {
     "data": {
      "text/plain": [
       "b'0x24'"
      ]
     },
     "execution_count": 80,
     "metadata": {},
     "output_type": "execute_result"
    }
   ],
   "source": [
    "a = '0x24'\n",
    "b = a.encode()\n",
    "b"
   ]
  },
  {
   "cell_type": "code",
   "execution_count": 61,
   "metadata": {},
   "outputs": [
    {
     "ename": "AttributeError",
     "evalue": "'int' object has no attribute '__type__'",
     "output_type": "error",
     "traceback": [
      "\u001b[0;31m---------------------------------------------------------------------------\u001b[0m",
      "\u001b[0;31mAttributeError\u001b[0m                            Traceback (most recent call last)",
      "\u001b[0;32m<ipython-input-61-a5ad05112075>\u001b[0m in \u001b[0;36m<module>\u001b[0;34m()\u001b[0m\n\u001b[1;32m      1\u001b[0m \u001b[0mb\u001b[0m \u001b[0;34m=\u001b[0m \u001b[0;36m5\u001b[0m\u001b[0;34m\u001b[0m\u001b[0m\n\u001b[1;32m      2\u001b[0m \u001b[0;31m#assert type(b) == 'int', 'given value is an int'\u001b[0m\u001b[0;34m\u001b[0m\u001b[0;34m\u001b[0m\u001b[0m\n\u001b[0;32m----> 3\u001b[0;31m \u001b[0mb\u001b[0m\u001b[0;34m.\u001b[0m\u001b[0m__type__\u001b[0m\u001b[0;34m(\u001b[0m\u001b[0;34m)\u001b[0m\u001b[0;34m\u001b[0m\u001b[0m\n\u001b[0m\u001b[1;32m      4\u001b[0m \u001b[0;31m#print(type(int))\u001b[0m\u001b[0;34m\u001b[0m\u001b[0;34m\u001b[0m\u001b[0m\n",
      "\u001b[0;31mAttributeError\u001b[0m: 'int' object has no attribute '__type__'"
     ]
    }
   ],
   "source": [
    "b = 5\n",
    "#assert type(b) == 'int', 'given value is an int'\n",
    "b.__type__()\n",
    "#print(type(int))"
   ]
  },
  {
   "cell_type": "code",
   "execution_count": 26,
   "metadata": {},
   "outputs": [
    {
     "name": "stdout",
     "output_type": "stream",
     "text": [
      "80000\n"
     ]
    }
   ],
   "source": [
    "a = 80000\n",
    "b = hex(a)[2:].zfill(8)\n",
    "c = '0x'+b\n",
    "print(int(c, 16))"
   ]
  },
  {
   "cell_type": "code",
   "execution_count": 23,
   "metadata": {},
   "outputs": [
    {
     "name": "stdout",
     "output_type": "stream",
     "text": [
      "<class 'int'>\n"
     ]
    },
    {
     "data": {
      "text/plain": [
       "80000"
      ]
     },
     "execution_count": 23,
     "metadata": {},
     "output_type": "execute_result"
    }
   ],
   "source": [
    "a = 0x13880\n",
    "print(type(a))\n",
    "b = int(a)\n",
    "b"
   ]
  },
  {
   "cell_type": "code",
   "execution_count": 40,
   "metadata": {},
   "outputs": [
    {
     "data": {
      "text/plain": [
       "b'00138800'"
      ]
     },
     "execution_count": 40,
     "metadata": {},
     "output_type": "execute_result"
    }
   ],
   "source": [
    "a = b'0x138800'\n",
    "b = a[2:].zfill(8)\n",
    "b"
   ]
  },
  {
   "cell_type": "code",
   "execution_count": 41,
   "metadata": {},
   "outputs": [
    {
     "ename": "SyntaxError",
     "evalue": "(value error) invalid \\x escape at position 0 (<ipython-input-41-3cbef6a9d9a4>, line 5)",
     "output_type": "error",
     "traceback": [
      "\u001b[0;36m  File \u001b[0;32m\"<ipython-input-41-3cbef6a9d9a4>\"\u001b[0;36m, line \u001b[0;32m5\u001b[0m\n\u001b[0;31m    result += b'\\x'+b[i:i+2]\u001b[0m\n\u001b[0m             ^\u001b[0m\n\u001b[0;31mSyntaxError\u001b[0m\u001b[0;31m:\u001b[0m (value error) invalid \\x escape at position 0\n"
     ]
    }
   ],
   "source": [
    "len_b = len(b)\n",
    "print(len_b)\n",
    "result = b''\n",
    "for i in range(0, len_b, 2):\n",
    "    result += b'\\x'+b[i:i+2]\n",
    "print(result)\n",
    "result"
   ]
  },
  {
   "cell_type": "code",
   "execution_count": 32,
   "metadata": {},
   "outputs": [
    {
     "name": "stdout",
     "output_type": "stream",
     "text": [
      "b'x00x01x38x80'\n"
     ]
    }
   ],
   "source": [
    "b = result.encode('utf-8')\n",
    "print(b)"
   ]
  },
  {
   "cell_type": "code",
   "execution_count": 25,
   "metadata": {},
   "outputs": [
    {
     "data": {
      "text/plain": [
       "'\\\\x00\\\\x13\\\\x88\\\\x00'"
      ]
     },
     "execution_count": 25,
     "metadata": {},
     "output_type": "execute_result"
    }
   ],
   "source": [
    "result"
   ]
  },
  {
   "cell_type": "markdown",
   "metadata": {},
   "source": [
    "Flattening a list of lists: experimentation"
   ]
  },
  {
   "cell_type": "code",
   "execution_count": 2,
   "metadata": {},
   "outputs": [
    {
     "name": "stdout",
     "output_type": "stream",
     "text": [
      "[1, 2, 3, 4, 5, 6, 7, 8]\n"
     ]
    }
   ],
   "source": [
    "a = [[1,2],[3,4],[5,6],[7,8]]\n",
    "flattened_list = [val for sublist in a for val in sublist]\n",
    "print(flattened_list)"
   ]
  },
  {
   "cell_type": "code",
   "execution_count": null,
   "metadata": {},
   "outputs": [],
   "source": []
  }
 ],
 "metadata": {
  "kernelspec": {
   "display_name": "Python 3",
   "language": "python",
   "name": "python3"
  },
  "language_info": {
   "codemirror_mode": {
    "name": "ipython",
    "version": 3
   },
   "file_extension": ".py",
   "mimetype": "text/x-python",
   "name": "python",
   "nbconvert_exporter": "python",
   "pygments_lexer": "ipython3",
   "version": "3.6.5"
  }
 },
 "nbformat": 4,
 "nbformat_minor": 2
}
